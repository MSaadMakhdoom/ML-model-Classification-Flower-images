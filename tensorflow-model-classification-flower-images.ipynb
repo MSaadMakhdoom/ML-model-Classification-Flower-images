{
 "cells": [
  {
   "cell_type": "code",
   "execution_count": null,
   "id": "8dd90ad2",
   "metadata": {
    "_cell_guid": "b1076dfc-b9ad-4769-8c92-a6c4dae69d19",
    "_uuid": "8f2839f25d086af736a60e9eeb907d3b93b6e0e5",
    "execution": {
     "iopub.execute_input": "2023-06-07T15:57:19.137254Z",
     "iopub.status.busy": "2023-06-07T15:57:19.136628Z",
     "iopub.status.idle": "2023-06-07T15:57:28.189640Z",
     "shell.execute_reply": "2023-06-07T15:57:28.188757Z"
    },
    "papermill": {
     "duration": 9.062115,
     "end_time": "2023-06-07T15:57:28.192239",
     "exception": false,
     "start_time": "2023-06-07T15:57:19.130124",
     "status": "completed"
    },
    "tags": []
   },
   "outputs": [],
   "source": [
    "import os\n",
    "import cv2\n",
    "import numpy as np\n",
    "from sklearn.model_selection import train_test_split\n",
    "from sklearn.metrics import classification_report, confusion_matrix\n",
    "import tensorflow as tf\n",
    "import matplotlib.pyplot as plt\n",
    "import pandas as pd\n",
    "import seaborn as sns\n",
    "import random"
   ]
  },
  {
   "cell_type": "markdown",
   "id": "cb25d97a",
   "metadata": {
    "papermill": {
     "duration": 0.004572,
     "end_time": "2023-06-07T15:57:28.201987",
     "exception": false,
     "start_time": "2023-06-07T15:57:28.197415",
     "status": "completed"
    },
    "tags": []
   },
   "source": [
    "# Parameters"
   ]
  },
  {
   "cell_type": "code",
   "execution_count": null,
   "id": "913a669d",
   "metadata": {
    "execution": {
     "iopub.execute_input": "2023-06-07T15:57:28.213459Z",
     "iopub.status.busy": "2023-06-07T15:57:28.212503Z",
     "iopub.status.idle": "2023-06-07T15:57:28.217620Z",
     "shell.execute_reply": "2023-06-07T15:57:28.216691Z"
    },
    "papermill": {
     "duration": 0.0129,
     "end_time": "2023-06-07T15:57:28.219657",
     "exception": false,
     "start_time": "2023-06-07T15:57:28.206757",
     "status": "completed"
    },
    "tags": []
   },
   "outputs": [],
   "source": [
    "image_size = (128, 128)\n",
    "num_classes = 5\n",
    "epochs = 30\n",
    "batch_size = 32"
   ]
  },
  {
   "cell_type": "code",
   "execution_count": null,
   "id": "73d49787",
   "metadata": {
    "execution": {
     "iopub.execute_input": "2023-06-07T15:57:28.230284Z",
     "iopub.status.busy": "2023-06-07T15:57:28.229962Z",
     "iopub.status.idle": "2023-06-07T15:58:10.227042Z",
     "shell.execute_reply": "2023-06-07T15:58:10.226092Z"
    },
    "papermill": {
     "duration": 42.005199,
     "end_time": "2023-06-07T15:58:10.229501",
     "exception": false,
     "start_time": "2023-06-07T15:57:28.224302",
     "status": "completed"
    },
    "tags": []
   },
   "outputs": [],
   "source": [
    "data_dir = './flowers/'\n",
    "\n",
    "class_names = ['daisy', 'dandelion', 'rose', 'sunflower', 'tulip']\n",
    "\n",
    "def preprocess_image(image_path):\n",
    "    image = cv2.imread(image_path)\n",
    "    image = cv2.resize(image, image_size)\n",
    "    image = image / 255.0  \n",
    "    return image\n",
    "\n",
    "images = []\n",
    "labels = []\n",
    "\n",
    "for i, class_name in enumerate(class_names):\n",
    "    class_dir = os.path.join(data_dir, class_name)\n",
    "    print(\"Class \",i,'',class_name)\n",
    "    for image_name in os.listdir(class_dir):\n",
    "        image_path = os.path.join(class_dir, image_name)\n",
    "        image = preprocess_image(image_path)\n",
    "        images.append(image)\n",
    "        labels.append(i)\n",
    "\n",
    "# Convert images and labels to numpy arrays\n",
    "\n",
    "images = np.array(images)\n",
    "labels = np.array(labels)\n"
   ]
  },
  {
   "cell_type": "markdown",
   "id": "31e199b3",
   "metadata": {
    "papermill": {
     "duration": 0.004671,
     "end_time": "2023-06-07T15:58:10.240971",
     "exception": false,
     "start_time": "2023-06-07T15:58:10.236300",
     "status": "completed"
    },
    "tags": []
   },
   "source": [
    "# Split the data into training and test sets"
   ]
  },
  {
   "cell_type": "code",
   "execution_count": null,
   "id": "a0d03306",
   "metadata": {
    "execution": {
     "iopub.execute_input": "2023-06-07T15:58:10.252555Z",
     "iopub.status.busy": "2023-06-07T15:58:10.251414Z",
     "iopub.status.idle": "2023-06-07T15:58:10.638473Z",
     "shell.execute_reply": "2023-06-07T15:58:10.637347Z"
    },
    "papermill": {
     "duration": 0.394983,
     "end_time": "2023-06-07T15:58:10.640653",
     "exception": false,
     "start_time": "2023-06-07T15:58:10.245670",
     "status": "completed"
    },
    "tags": []
   },
   "outputs": [],
   "source": [
    "train_images, test_images, train_labels, test_labels = train_test_split(\n",
    "    images, labels, test_size=0.2, stratify=labels, random_state=42\n",
    ")\n",
    "\n",
    "\n",
    "print(\"Training data size:\", len(train_images))\n",
    "print(\"Test data size:\", len(test_images))"
   ]
  },
  {
   "cell_type": "markdown",
   "id": "3504a1b2",
   "metadata": {
    "papermill": {
     "duration": 0.004892,
     "end_time": "2023-06-07T15:58:10.650739",
     "exception": false,
     "start_time": "2023-06-07T15:58:10.645847",
     "status": "completed"
    },
    "tags": []
   },
   "source": [
    "#  model"
   ]
  },
  {
   "cell_type": "code",
   "execution_count": null,
   "id": "0973b29f",
   "metadata": {
    "execution": {
     "iopub.execute_input": "2023-06-07T15:58:10.663330Z",
     "iopub.status.busy": "2023-06-07T15:58:10.662153Z",
     "iopub.status.idle": "2023-06-07T15:58:10.896394Z",
     "shell.execute_reply": "2023-06-07T15:58:10.895403Z"
    },
    "papermill": {
     "duration": 0.242957,
     "end_time": "2023-06-07T15:58:10.898838",
     "exception": false,
     "start_time": "2023-06-07T15:58:10.655881",
     "status": "completed"
    },
    "tags": []
   },
   "outputs": [],
   "source": [
    "\n",
    "model = tf.keras.Sequential([\n",
    "    tf.keras.layers.Conv2D(16, (3, 3), activation='relu', input_shape=(image_size[0], image_size[1], 3)),\n",
    "    tf.keras.layers.MaxPooling2D((2, 2)),\n",
    "    tf.keras.layers.Conv2D(32, (3, 3), activation='relu'),\n",
    "    tf.keras.layers.MaxPooling2D((2, 2)),\n",
    "    tf.keras.layers.Conv2D(64, (3, 3), activation='relu'),\n",
    "    tf.keras.layers.MaxPooling2D((2, 2)),\n",
    "    tf.keras.layers.Flatten(),\n",
    "    tf.keras.layers.Dense(64, activation='relu'),\n",
    "    tf.keras.layers.Dense(num_classes, activation='softmax')\n",
    "])\n",
    "\n",
    "# Compile the model\n",
    "\n",
    "model.compile(optimizer='adam',\n",
    "              loss='sparse_categorical_crossentropy',\n",
    "              metrics=['accuracy'])\n",
    "\n",
    "\n"
   ]
  },
  {
   "cell_type": "markdown",
   "id": "55541974",
   "metadata": {
    "papermill": {
     "duration": 0.004864,
     "end_time": "2023-06-07T15:58:10.909187",
     "exception": false,
     "start_time": "2023-06-07T15:58:10.904323",
     "status": "completed"
    },
    "tags": []
   },
   "source": [
    "# Train the model"
   ]
  },
  {
   "cell_type": "code",
   "execution_count": null,
   "id": "d037597e",
   "metadata": {
    "execution": {
     "iopub.execute_input": "2023-06-07T15:58:10.922020Z",
     "iopub.status.busy": "2023-06-07T15:58:10.920556Z",
     "iopub.status.idle": "2023-06-07T16:11:49.389217Z",
     "shell.execute_reply": "2023-06-07T16:11:49.388326Z"
    },
    "papermill": {
     "duration": 818.68344,
     "end_time": "2023-06-07T16:11:49.597700",
     "exception": false,
     "start_time": "2023-06-07T15:58:10.914260",
     "status": "completed"
    },
    "tags": []
   },
   "outputs": [],
   "source": [
    "# model.fit(train_images, train_labels,\n",
    "#           epochs=epochs,\n",
    "#           batch_size=batch_size)\n",
    "\n",
    "history = model.fit(train_images, train_labels,\n",
    "                    epochs=epochs,\n",
    "                    batch_size=batch_size,\n",
    "                    validation_data=(test_images, test_labels))"
   ]
  },
  {
   "cell_type": "markdown",
   "id": "b17eafc9",
   "metadata": {
    "papermill": {
     "duration": 0.208365,
     "end_time": "2023-06-07T16:11:50.014876",
     "exception": false,
     "start_time": "2023-06-07T16:11:49.806511",
     "status": "completed"
    },
    "tags": []
   },
   "source": [
    "# Plot the Loss and Accuracy curves"
   ]
  },
  {
   "cell_type": "code",
   "execution_count": null,
   "id": "2bc9792e",
   "metadata": {
    "execution": {
     "iopub.execute_input": "2023-06-07T16:11:50.437416Z",
     "iopub.status.busy": "2023-06-07T16:11:50.436772Z",
     "iopub.status.idle": "2023-06-07T16:11:50.975873Z",
     "shell.execute_reply": "2023-06-07T16:11:50.974783Z"
    },
    "papermill": {
     "duration": 0.75395,
     "end_time": "2023-06-07T16:11:50.978366",
     "exception": false,
     "start_time": "2023-06-07T16:11:50.224416",
     "status": "completed"
    },
    "tags": []
   },
   "outputs": [],
   "source": [
    "plt.figure(figsize=(12, 4))\n",
    "plt.subplot(1, 2, 1)\n",
    "plt.plot(history.history['loss'], label='Training Loss')\n",
    "plt.plot(history.history['val_loss'], label='Validation Loss')\n",
    "plt.title('Loss Curves')\n",
    "plt.xlabel('Epoch')\n",
    "plt.ylabel('Loss')\n",
    "plt.legend()\n",
    "\n",
    "plt.subplot(1, 2, 2)\n",
    "plt.plot(history.history['accuracy'], label='Training Accuracy')\n",
    "plt.plot(history.history['val_accuracy'], label='Validation Accuracy')\n",
    "plt.title('Accuracy Curves')\n",
    "plt.xlabel('Epoch')\n",
    "plt.ylabel('Accuracy')\n",
    "plt.legend()\n",
    "\n",
    "plt.tight_layout()\n",
    "plt.show()"
   ]
  },
  {
   "cell_type": "markdown",
   "id": "a1c27242",
   "metadata": {
    "papermill": {
     "duration": 0.210098,
     "end_time": "2023-06-07T16:11:51.395790",
     "exception": false,
     "start_time": "2023-06-07T16:11:51.185692",
     "status": "completed"
    },
    "tags": []
   },
   "source": [
    "# Evaluate the model"
   ]
  },
  {
   "cell_type": "code",
   "execution_count": null,
   "id": "d53dda13",
   "metadata": {
    "execution": {
     "iopub.execute_input": "2023-06-07T16:11:51.900699Z",
     "iopub.status.busy": "2023-06-07T16:11:51.900284Z",
     "iopub.status.idle": "2023-06-07T16:11:54.034679Z",
     "shell.execute_reply": "2023-06-07T16:11:54.033867Z"
    },
    "papermill": {
     "duration": 2.346379,
     "end_time": "2023-06-07T16:11:54.037472",
     "exception": false,
     "start_time": "2023-06-07T16:11:51.691093",
     "status": "completed"
    },
    "tags": []
   },
   "outputs": [],
   "source": [
    "test_loss, test_accuracy = model.evaluate(test_images, test_labels)\n",
    "print('Test loss:', test_loss)\n",
    "print('Test accuracy:', test_accuracy)"
   ]
  },
  {
   "cell_type": "markdown",
   "id": "65861488",
   "metadata": {
    "papermill": {
     "duration": 0.211824,
     "end_time": "2023-06-07T16:11:54.470333",
     "exception": false,
     "start_time": "2023-06-07T16:11:54.258509",
     "status": "completed"
    },
    "tags": []
   },
   "source": [
    "# classification report"
   ]
  },
  {
   "cell_type": "code",
   "execution_count": null,
   "id": "43d6158f",
   "metadata": {
    "execution": {
     "iopub.execute_input": "2023-06-07T16:11:54.892627Z",
     "iopub.status.busy": "2023-06-07T16:11:54.891902Z",
     "iopub.status.idle": "2023-06-07T16:11:57.847250Z",
     "shell.execute_reply": "2023-06-07T16:11:57.846145Z"
    },
    "papermill": {
     "duration": 3.170731,
     "end_time": "2023-06-07T16:11:57.849528",
     "exception": false,
     "start_time": "2023-06-07T16:11:54.678797",
     "status": "completed"
    },
    "tags": []
   },
   "outputs": [],
   "source": [
    "predictions = model.predict(test_images)\n",
    "predicted_labels = np.argmax(predictions, axis=1)\n",
    "\n",
    "classification_rep = classification_report(test_labels, predicted_labels, target_names=class_names, output_dict=True)\n",
    "\n",
    "# Convert classification report to pandas DataFrame\n",
    "\n",
    "df_classification = pd.DataFrame(classification_rep).transpose()\n",
    "\n",
    "df_classification"
   ]
  },
  {
   "cell_type": "markdown",
   "id": "5755cee7",
   "metadata": {
    "papermill": {
     "duration": 0.220365,
     "end_time": "2023-06-07T16:11:58.286545",
     "exception": false,
     "start_time": "2023-06-07T16:11:58.066180",
     "status": "completed"
    },
    "tags": []
   },
   "source": [
    "# Confusion matrix"
   ]
  },
  {
   "cell_type": "code",
   "execution_count": null,
   "id": "093ba16d",
   "metadata": {
    "execution": {
     "iopub.execute_input": "2023-06-07T16:11:58.780902Z",
     "iopub.status.busy": "2023-06-07T16:11:58.779951Z",
     "iopub.status.idle": "2023-06-07T16:11:59.132892Z",
     "shell.execute_reply": "2023-06-07T16:11:59.131984Z"
    },
    "papermill": {
     "duration": 0.635935,
     "end_time": "2023-06-07T16:11:59.135318",
     "exception": false,
     "start_time": "2023-06-07T16:11:58.499383",
     "status": "completed"
    },
    "tags": []
   },
   "outputs": [],
   "source": [
    "cm = confusion_matrix(test_labels, predicted_labels)\n",
    "df_cm = pd.DataFrame(cm, index=class_names, columns=class_names)\n",
    "\n",
    "# Plot confusion matrix\n",
    "\n",
    "plt.figure(figsize=(8, 6))\n",
    "sns.heatmap(df_cm, annot=True, cmap='Blues', fmt='g')\n",
    "plt.title('Confusion Matrix')\n",
    "plt.xlabel('Predicted Labels')\n",
    "plt.ylabel('True Labels')\n",
    "plt.show()"
   ]
  },
  {
   "cell_type": "markdown",
   "id": "55328c87",
   "metadata": {
    "papermill": {
     "duration": 0.211565,
     "end_time": "2023-06-07T16:11:59.560560",
     "exception": false,
     "start_time": "2023-06-07T16:11:59.348995",
     "status": "completed"
    },
    "tags": []
   },
   "source": [
    "# Test the model on an input image"
   ]
  },
  {
   "cell_type": "code",
   "execution_count": null,
   "id": "33c4b7c5",
   "metadata": {
    "execution": {
     "iopub.execute_input": "2023-06-07T16:11:59.987948Z",
     "iopub.status.busy": "2023-06-07T16:11:59.987315Z",
     "iopub.status.idle": "2023-06-07T16:12:00.155581Z",
     "shell.execute_reply": "2023-06-07T16:12:00.154011Z"
    },
    "papermill": {
     "duration": 0.384911,
     "end_time": "2023-06-07T16:12:00.158048",
     "exception": false,
     "start_time": "2023-06-07T16:11:59.773137",
     "status": "completed"
    },
    "tags": []
   },
   "outputs": [],
   "source": [
    "input_image_path = './flowers/sunflower/1008566138_6927679c8a.jpg'\n",
    "input_image = preprocess_image(input_image_path)\n",
    "input_image = np.expand_dims(input_image, axis=0)  \n",
    "\n",
    "predictions = model.predict(input_image)\n",
    "predicted_label = np.argmax(predictions[0])\n",
    "predicted_class = class_names[predicted_label]\n",
    "\n",
    "print('Predicted class:', predicted_class)"
   ]
  },
  {
   "cell_type": "markdown",
   "id": "49251be3",
   "metadata": {},
   "source": [
    "# save model"
   ]
  },
  {
   "cell_type": "code",
   "execution_count": null,
   "id": "4e5befcc",
   "metadata": {
    "papermill": {
     "duration": 0.211883,
     "end_time": "2023-06-07T16:12:00.585787",
     "exception": false,
     "start_time": "2023-06-07T16:12:00.373904",
     "status": "completed"
    },
    "tags": []
   },
   "outputs": [],
   "source": [
    "model.save('model.h5')"
   ]
  },
  {
   "cell_type": "code",
   "execution_count": null,
   "id": "a8afabb8",
   "metadata": {},
   "outputs": [],
   "source": []
  }
 ],
 "metadata": {
  "kernelspec": {
   "display_name": "Python 3 (ipykernel)",
   "language": "python",
   "name": "python3"
  },
  "language_info": {
   "codemirror_mode": {
    "name": "ipython",
    "version": 3
   },
   "file_extension": ".py",
   "mimetype": "text/x-python",
   "name": "python",
   "nbconvert_exporter": "python",
   "pygments_lexer": "ipython3",
   "version": "3.10.9"
  },
  "papermill": {
   "default_parameters": {},
   "duration": 893.849379,
   "end_time": "2023-06-07T16:12:03.987099",
   "environment_variables": {},
   "exception": null,
   "input_path": "__notebook__.ipynb",
   "output_path": "__notebook__.ipynb",
   "parameters": {},
   "start_time": "2023-06-07T15:57:10.137720",
   "version": "2.4.0"
  }
 },
 "nbformat": 4,
 "nbformat_minor": 5
}
